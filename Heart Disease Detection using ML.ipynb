{
 "cells": [
  {
   "cell_type": "markdown",
   "id": "657f9a32",
   "metadata": {},
   "source": [
    "<p style=\"text-align:center; background-color:#f0f8ff; padding:20px; border:2px solid #4A90E2; border-radius:15px;\">\n",
    "  <span style=\"font-size:48px; color:#4A90E2; font-family:'Lucida Handwriting', cursive;\">\n",
    "    Heart Disease Detection using ML\n",
    "  </span>\n",
    "</p>\n",
    "<p style=\"text-align:center; background-color:#f0f8ff; padding:10px; border:2px solid #4A90E2; border-radius:15px;\">\n",
    "  <span style=\"font-size:24px; color:#4A90E2; font-family:'Lucida Handwriting', cursive;\">\n",
    "    Fahim Alam\n",
    "  </span>\n",
    "</p>\n"
   ]
  },
  {
   "cell_type": "markdown",
   "id": "46628301",
   "metadata": {},
   "source": [
    "<p style=\"padding:10px;background-color:#373A46 ;margin:0;color:#ffffff;font-family:newtimeroman;font-size:100%;text-align:center;border-radius: 15px 50px;overflow:hidden;font-weight:500\">Table of Contents 💻</p>"
   ]
  },
  {
   "cell_type": "markdown",
   "id": "4130397b",
   "metadata": {},
   "source": [
    "\n",
    "<div style = 'border : 3px solid non; background-color:#f2f2f2\n",
    "              ;font-family:Times New Roman;\n",
    "              font-size:110%;padding:10px'>\n",
    "\n",
    "\n",
    "* **[1.Load and preprocess the data](#1)**\n",
    "\n",
    "* **[2.Train a machine learning model](#2)**\n",
    "\n",
    "* **[Evaluate the model](#3)**  \n",
    "   \n",
    "* **[4. Deploy the model using a web framework (such as Flask).](#4)**\n",
    "\n",
    "\n",
    "   "
   ]
  },
  {
   "cell_type": "markdown",
   "id": "a9f9657a",
   "metadata": {},
   "source": [
   
   ]
  },
  {
   "cell_type": "code",
   "execution_count": 1,
   "id": "e5fcd15b",
   "metadata": {},
   "outputs": [
    {
     "data": {
      "text/html": [
       "<div>\n",
       "<style scoped>\n",
       "    .dataframe tbody tr th:only-of-type {\n",
       "        vertical-align: middle;\n",
       "    }\n",
       "\n",
       "    .dataframe tbody tr th {\n",
       "        vertical-align: top;\n",
       "    }\n",
       "\n",
       "    .dataframe thead th {\n",
       "        text-align: right;\n",
       "    }\n",
       "</style>\n",
       "<table border=\"1\" class=\"dataframe\">\n",
       "  <thead>\n",
       "    <tr style=\"text-align: right;\">\n",
       "      <th></th>\n",
       "      <th>age</th>\n",
       "      <th>sex</th>\n",
       "      <th>cp</th>\n",
       "      <th>trestbps</th>\n",
       "      <th>chol</th>\n",
       "      <th>fbs</th>\n",
       "      <th>restecg</th>\n",
       "      <th>thalach</th>\n",
       "      <th>exang</th>\n",
       "      <th>oldpeak</th>\n",
       "      <th>slope</th>\n",
       "      <th>ca</th>\n",
       "      <th>thal</th>\n",
       "      <th>target</th>\n",
       "    </tr>\n",
       "  </thead>\n",
       "  <tbody>\n",
       "    <tr>\n",
       "      <th>0</th>\n",
       "      <td>52</td>\n",
       "      <td>1</td>\n",
       "      <td>0.0</td>\n",
       "      <td>125</td>\n",
       "      <td>212.0</td>\n",
       "      <td>0</td>\n",
       "      <td>1.0</td>\n",
       "      <td>168</td>\n",
       "      <td>0</td>\n",
       "      <td>NaN</td>\n",
       "      <td>2</td>\n",
       "      <td>2</td>\n",
       "      <td>3</td>\n",
       "      <td>0</td>\n",
       "    </tr>\n",
       "    <tr>\n",
       "      <th>1</th>\n",
       "      <td>53</td>\n",
       "      <td>1</td>\n",
       "      <td>0.0</td>\n",
       "      <td>140</td>\n",
       "      <td>203.0</td>\n",
       "      <td>1</td>\n",
       "      <td>0.0</td>\n",
       "      <td>155</td>\n",
       "      <td>1</td>\n",
       "      <td>NaN</td>\n",
       "      <td>0</td>\n",
       "      <td>0</td>\n",
       "      <td>3</td>\n",
       "      <td>0</td>\n",
       "    </tr>\n",
       "  </tbody>\n",
       "</table>\n",
       "</div>"
      ],
      "text/plain": [
       "   age  sex   cp  trestbps   chol  fbs  restecg  thalach  exang  oldpeak  \\\n",
       "0   52    1  0.0       125  212.0    0      1.0      168      0      NaN   \n",
       "1   53    1  0.0       140  203.0    1      0.0      155      1      NaN   \n",
       "\n",
       "   slope  ca  thal  target  \n",
       "0      2   2     3       0  \n",
       "1      0   0     3       0  "
      ]
     },
     "execution_count": 1,
     "metadata": {},
     "output_type": "execute_result"
    }
   ],
   "source": [
    "import pandas as pd\n",
    "\n",
    "# Load the heart disease dataset\n",
    "heart_disease_df = pd.read_csv('heart_disease_df_1.csv')\n",
    "\n",
    "# Display the first two rows of the DataFrame\n",
    "heart_disease_df.head(2)\n"
   ]
  },
  {
   "cell_type": "code",
   "execution_count": 2,
   "id": "41be8d81",
   "metadata": {},
   "outputs": [
    {
     "name": "stdout",
     "output_type": "stream",
     "text": [
      "<class 'pandas.core.frame.DataFrame'>\n",
      "RangeIndex: 1076 entries, 0 to 1075\n",
      "Data columns (total 14 columns):\n",
      " #   Column    Non-Null Count  Dtype  \n",
      "---  ------    --------------  -----  \n",
      " 0   age       1076 non-null   int64  \n",
      " 1   sex       1076 non-null   int64  \n",
      " 2   cp        1023 non-null   float64\n",
      " 3   trestbps  1076 non-null   int64  \n",
      " 4   chol      1021 non-null   float64\n",
      " 5   fbs       1076 non-null   int64  \n",
      " 6   restecg   1028 non-null   float64\n",
      " 7   thalach   1076 non-null   int64  \n",
      " 8   exang     1076 non-null   int64  \n",
      " 9   oldpeak   0 non-null      float64\n",
      " 10  slope     1076 non-null   int64  \n",
      " 11  ca        1076 non-null   int64  \n",
      " 12  thal      1076 non-null   int64  \n",
      " 13  target    1076 non-null   int64  \n",
      "dtypes: float64(4), int64(10)\n",
      "memory usage: 117.8 KB\n"
     ]
    }
   ],
   "source": [
    "heart_disease_df.info()"
   ]
  },
  {
   "cell_type": "code",
   "execution_count": 3,
   "id": "8f96ca96-114d-4b39-a157-0b1fc4f3cf29",
   "metadata": {},
   "outputs": [
    {
     "data": {
      "text/plain": [
       "target\n",
       "1    0.512082\n",
       "0    0.487918\n",
       "Name: proportion, dtype: float64"
      ]
     },
     "execution_count": 3,
     "metadata": {},
     "output_type": "execute_result"
    }
   ],
   "source": [
    "heart_disease_df['target'].value_counts(normalize = True)"
   ]
  },
  {
   "cell_type": "code",
   "execution_count": 4,
   "id": "fb494f05-34f3-4121-8176-1dd891405a8c",
   "metadata": {},
   "outputs": [
    {
     "data": {
      "text/html": [
       "<div>\n",
       "<style scoped>\n",
       "    .dataframe tbody tr th:only-of-type {\n",
       "        vertical-align: middle;\n",
       "    }\n",
       "\n",
       "    .dataframe tbody tr th {\n",
       "        vertical-align: top;\n",
       "    }\n",
       "\n",
       "    .dataframe thead th {\n",
       "        text-align: right;\n",
       "    }\n",
       "</style>\n",
       "<table border=\"1\" class=\"dataframe\">\n",
       "  <thead>\n",
       "    <tr style=\"text-align: right;\">\n",
       "      <th></th>\n",
       "      <th>age</th>\n",
       "      <th>sex</th>\n",
       "      <th>cp</th>\n",
       "      <th>trestbps</th>\n",
       "      <th>chol</th>\n",
       "      <th>fbs</th>\n",
       "      <th>restecg</th>\n",
       "      <th>thalach</th>\n",
       "      <th>exang</th>\n",
       "      <th>oldpeak</th>\n",
       "      <th>slope</th>\n",
       "      <th>ca</th>\n",
       "      <th>thal</th>\n",
       "      <th>target</th>\n",
       "    </tr>\n",
       "  </thead>\n",
       "  <tbody>\n",
       "    <tr>\n",
       "      <th>0</th>\n",
       "      <td>False</td>\n",
       "      <td>False</td>\n",
       "      <td>False</td>\n",
       "      <td>False</td>\n",
       "      <td>False</td>\n",
       "      <td>False</td>\n",
       "      <td>False</td>\n",
       "      <td>False</td>\n",
       "      <td>False</td>\n",
       "      <td>True</td>\n",
       "      <td>False</td>\n",
       "      <td>False</td>\n",
       "      <td>False</td>\n",
       "      <td>False</td>\n",
       "    </tr>\n",
       "    <tr>\n",
       "      <th>1</th>\n",
       "      <td>False</td>\n",
       "      <td>False</td>\n",
       "      <td>False</td>\n",
       "      <td>False</td>\n",
       "      <td>False</td>\n",
       "      <td>False</td>\n",
       "      <td>False</td>\n",
       "      <td>False</td>\n",
       "      <td>False</td>\n",
       "      <td>True</td>\n",
       "      <td>False</td>\n",
       "      <td>False</td>\n",
       "      <td>False</td>\n",
       "      <td>False</td>\n",
       "    </tr>\n",
       "    <tr>\n",
       "      <th>2</th>\n",
       "      <td>False</td>\n",
       "      <td>False</td>\n",
       "      <td>False</td>\n",
       "      <td>False</td>\n",
       "      <td>False</td>\n",
       "      <td>False</td>\n",
       "      <td>False</td>\n",
       "      <td>False</td>\n",
       "      <td>False</td>\n",
       "      <td>True</td>\n",
       "      <td>False</td>\n",
       "      <td>False</td>\n",
       "      <td>False</td>\n",
       "      <td>False</td>\n",
       "    </tr>\n",
       "    <tr>\n",
       "      <th>3</th>\n",
       "      <td>False</td>\n",
       "      <td>False</td>\n",
       "      <td>False</td>\n",
       "      <td>False</td>\n",
       "      <td>False</td>\n",
       "      <td>False</td>\n",
       "      <td>False</td>\n",
       "      <td>False</td>\n",
       "      <td>False</td>\n",
       "      <td>True</td>\n",
       "      <td>False</td>\n",
       "      <td>False</td>\n",
       "      <td>False</td>\n",
       "      <td>False</td>\n",
       "    </tr>\n",
       "    <tr>\n",
       "      <th>4</th>\n",
       "      <td>False</td>\n",
       "      <td>False</td>\n",
       "      <td>False</td>\n",
       "      <td>False</td>\n",
       "      <td>False</td>\n",
       "      <td>False</td>\n",
       "      <td>False</td>\n",
       "      <td>False</td>\n",
       "      <td>False</td>\n",
       "      <td>True</td>\n",
       "      <td>False</td>\n",
       "      <td>False</td>\n",
       "      <td>False</td>\n",
       "      <td>False</td>\n",
       "    </tr>\n",
       "    <tr>\n",
       "      <th>...</th>\n",
       "      <td>...</td>\n",
       "      <td>...</td>\n",
       "      <td>...</td>\n",
       "      <td>...</td>\n",
       "      <td>...</td>\n",
       "      <td>...</td>\n",
       "      <td>...</td>\n",
       "      <td>...</td>\n",
       "      <td>...</td>\n",
       "      <td>...</td>\n",
       "      <td>...</td>\n",
       "      <td>...</td>\n",
       "      <td>...</td>\n",
       "      <td>...</td>\n",
       "    </tr>\n",
       "    <tr>\n",
       "      <th>1071</th>\n",
       "      <td>False</td>\n",
       "      <td>False</td>\n",
       "      <td>False</td>\n",
       "      <td>False</td>\n",
       "      <td>False</td>\n",
       "      <td>False</td>\n",
       "      <td>False</td>\n",
       "      <td>False</td>\n",
       "      <td>False</td>\n",
       "      <td>True</td>\n",
       "      <td>False</td>\n",
       "      <td>False</td>\n",
       "      <td>False</td>\n",
       "      <td>False</td>\n",
       "    </tr>\n",
       "    <tr>\n",
       "      <th>1072</th>\n",
       "      <td>False</td>\n",
       "      <td>False</td>\n",
       "      <td>True</td>\n",
       "      <td>False</td>\n",
       "      <td>False</td>\n",
       "      <td>False</td>\n",
       "      <td>False</td>\n",
       "      <td>False</td>\n",
       "      <td>False</td>\n",
       "      <td>True</td>\n",
       "      <td>False</td>\n",
       "      <td>False</td>\n",
       "      <td>False</td>\n",
       "      <td>False</td>\n",
       "    </tr>\n",
       "    <tr>\n",
       "      <th>1073</th>\n",
       "      <td>False</td>\n",
       "      <td>False</td>\n",
       "      <td>False</td>\n",
       "      <td>False</td>\n",
       "      <td>False</td>\n",
       "      <td>False</td>\n",
       "      <td>False</td>\n",
       "      <td>False</td>\n",
       "      <td>False</td>\n",
       "      <td>True</td>\n",
       "      <td>False</td>\n",
       "      <td>False</td>\n",
       "      <td>False</td>\n",
       "      <td>False</td>\n",
       "    </tr>\n",
       "    <tr>\n",
       "      <th>1074</th>\n",
       "      <td>False</td>\n",
       "      <td>False</td>\n",
       "      <td>False</td>\n",
       "      <td>False</td>\n",
       "      <td>False</td>\n",
       "      <td>False</td>\n",
       "      <td>False</td>\n",
       "      <td>False</td>\n",
       "      <td>False</td>\n",
       "      <td>True</td>\n",
       "      <td>False</td>\n",
       "      <td>False</td>\n",
       "      <td>False</td>\n",
       "      <td>False</td>\n",
       "    </tr>\n",
       "    <tr>\n",
       "      <th>1075</th>\n",
       "      <td>False</td>\n",
       "      <td>False</td>\n",
       "      <td>False</td>\n",
       "      <td>False</td>\n",
       "      <td>False</td>\n",
       "      <td>False</td>\n",
       "      <td>False</td>\n",
       "      <td>False</td>\n",
       "      <td>False</td>\n",
       "      <td>True</td>\n",
       "      <td>False</td>\n",
       "      <td>False</td>\n",
       "      <td>False</td>\n",
       "      <td>False</td>\n",
       "    </tr>\n",
       "  </tbody>\n",
       "</table>\n",
       "<p>1076 rows × 14 columns</p>\n",
       "</div>"
      ],
      "text/plain": [
       "        age    sex     cp  trestbps   chol    fbs  restecg  thalach  exang  \\\n",
       "0     False  False  False     False  False  False    False    False  False   \n",
       "1     False  False  False     False  False  False    False    False  False   \n",
       "2     False  False  False     False  False  False    False    False  False   \n",
       "3     False  False  False     False  False  False    False    False  False   \n",
       "4     False  False  False     False  False  False    False    False  False   \n",
       "...     ...    ...    ...       ...    ...    ...      ...      ...    ...   \n",
       "1071  False  False  False     False  False  False    False    False  False   \n",
       "1072  False  False   True     False  False  False    False    False  False   \n",
       "1073  False  False  False     False  False  False    False    False  False   \n",
       "1074  False  False  False     False  False  False    False    False  False   \n",
       "1075  False  False  False     False  False  False    False    False  False   \n",
       "\n",
       "      oldpeak  slope     ca   thal  target  \n",
       "0        True  False  False  False   False  \n",
       "1        True  False  False  False   False  \n",
       "2        True  False  False  False   False  \n",
       "3        True  False  False  False   False  \n",
       "4        True  False  False  False   False  \n",
       "...       ...    ...    ...    ...     ...  \n",
       "1071     True  False  False  False   False  \n",
       "1072     True  False  False  False   False  \n",
       "1073     True  False  False  False   False  \n",
       "1074     True  False  False  False   False  \n",
       "1075     True  False  False  False   False  \n",
       "\n",
       "[1076 rows x 14 columns]"
      ]
     },
     "execution_count": 4,
     "metadata": {},
     "output_type": "execute_result"
    }
   ],
   "source": [
    "heart_disease_df.isnull()"
   ]
  },
  {
   "cell_type": "markdown",
   "id": "a758b5e7-b91b-49f2-8ada-4fd21c7dd299",
   "metadata": {},
   "source": [
    "'oldpeak' contains null values."
   ]
  },
  {
   "cell_type": "code",
   "execution_count": 5,
   "id": "362e1e48-2dc7-48d1-96cf-ea3c1d507377",
   "metadata": {},
   "outputs": [
    {
     "data": {
      "text/plain": [
       "1076"
      ]
     },
     "execution_count": 5,
     "metadata": {},
     "output_type": "execute_result"
    }
   ],
   "source": [
    "heart_disease_df['oldpeak'].isnull().sum()"
   ]
  },
  {
   "cell_type": "code",
   "execution_count": 6,
   "id": "a9baf150-942c-484b-a1de-6ead0baf75f8",
   "metadata": {},
   "outputs": [
    {
     "data": {
      "text/plain": [
       "55"
      ]
     },
     "execution_count": 6,
     "metadata": {},
     "output_type": "execute_result"
    }
   ],
   "source": [
    "heart_disease_df['chol'].isnull().sum()"
   ]
  },
  {
   "cell_type": "markdown",
   "id": "dbdc1c1c-0340-4cd7-a9fa-83f4f0074bde",
   "metadata": {},
   "source": [
    "**Dealing with null / empty values**\n",
    "\n",
    "Deciding to drop values depends on EDA findings. For example, the oldpeak feature in our dataset refers to electrocardiogram measure. If we find that the oldpeak column has many missing values, we can drop it. If the target column has missing values, it is generally best to drop those rows, or treat them as a separate category."
   ]
  },
  {
   "cell_type": "code",
   "execution_count": 7,
   "id": "2f07156b-4334-44ed-974e-c17774d9ee03",
   "metadata": {},
   "outputs": [],
   "source": [
    "column_dropped = heart_disease_df.drop(['oldpeak'], axis = 'columns')\n",
    "rows_and_columns_dropped = column_dropped.dropna(how='all')"
   ]
  },
  {
   "cell_type": "markdown",
   "id": "4f004f55-69ed-4640-b36f-47bf778720f6",
   "metadata": {},
   "source": [
    "**Imputation**\n",
    "\n",
    "Often, we have rows or columns with just a few missing values. We wouldn't want to drop an entire patient record just because they forgot to record their age. We also cannot drop columns like the target, as they are essential to prediction. One common technique used here is imputation. Imputation involves filling missing values with substitutes. Choosing an imputation strategy depends on the data. Sometimes it's best to fill with the mean or median. Other times, it makes sense to fill missing values with a constant, or the previous value in the dataset for timeseries. We can perform imputation using the pandas dot-fillna method. The inplace argument means that the operation directly modifies the original DataFrame. For instance, if we have missing values in the cholesterol column, we could fill them with the mean cholesterol level of all patients."
   ]
  },
  {
   "cell_type": "code",
   "execution_count": 8,
   "id": "fece2e36-91f6-4754-bd7f-999ed0b3701a",
   "metadata": {},
   "outputs": [
    {
     "data": {
      "text/plain": [
       "245.53770812928502"
      ]
     },
     "execution_count": 8,
     "metadata": {},
     "output_type": "execute_result"
    }
   ],
   "source": [
    "mean_value = heart_disease_df['chol'].mean() # mean cholestrol\n",
    "mean_value"
   ]
  },
  {
   "cell_type": "code",
   "execution_count": 20,
   "id": "738544c2-3cea-4d39-be0f-61590493cdf3",
   "metadata": {},
   "outputs": [],
   "source": [
    "heart_disease_df['chol']= heart_disease_df['chol'].fillna(mean_value, inplace =  True)"
   ]
  },
  {
   "cell_type": "code",
   "execution_count": 10,
   "id": "ad0fc1ea-10b8-4ced-bc2c-0ed3f8e1af10",
   "metadata": {},
   "outputs": [
    {
     "data": {
      "text/plain": [
       "0"
      ]
     },
     "execution_count": 10,
     "metadata": {},
     "output_type": "execute_result"
    }
   ],
   "source": [
    "heart_disease_df['chol'].isnull().sum()"
   ]
  },
  {
   "cell_type": "markdown",
   "id": "2c455103-8fb6-4ac7-b7a6-499a37e6ca72",
   "metadata": {},
   "source": [
    "**Advanced imputation**\n",
    "\n",
    "Sometimes, using a summary statistic value for imputation does not capture the nuance required for successful modeling. In this case, we can use more complex ML techniques such as K-nearest neighbors or SMOTE to impute missing values if they can be predicted from features in the dataset. Here, we instantiate a KNN imputer object then use the fit_transform method on the column we want to impute values into."
   ]
  },
  {
   "cell_type": "code",
   "execution_count": 11,
   "id": "d8bb766a-6793-4ac7-93c2-9176ecf61b64",
   "metadata": {},
   "outputs": [],
   "source": [
    "from sklearn.impute import KNNImputer"
   ]
  },
  {
   "cell_type": "code",
   "execution_count": 12,
   "id": "7177d654-d91d-4047-9752-6b914fc60874",
   "metadata": {},
   "outputs": [],
   "source": [
    "def impute_missing_values(df):\n",
    "    # Initialize the KNNImputer\n",
    "    imputer = KNNImputer(n_neighbors=2, weights=\"uniform\")\n",
    "    df_imputed = imputer.fit_transform(df)\n",
    "    return df_imputed"
   ]
  },
  {
   "cell_type": "code",
   "execution_count": 13,
   "id": "226ea417-c6eb-4e7f-afc5-22f0b953e8e5",
   "metadata": {},
   "outputs": [],
   "source": [
    "# Drop empty columns\n",
    "heart_disease_column_dropped = heart_disease_df.drop(['oldpeak'], axis=1)"
   ]
  },
  {
   "cell_type": "code",
   "execution_count": 14,
   "id": "b53c7700-4dcb-40d1-9ea4-1b6de069db6b",
   "metadata": {},
   "outputs": [],
   "source": [
    "# Drop empty columns\n",
    "heart_disease_column_dropped = heart_disease_df.drop(['oldpeak'], axis=1)\n",
    "\n",
    "# Drop duplicate rows\n",
    "heart_disease_duplicates_dropped = heart_disease_column_dropped.drop_duplicates()"
   ]
  },
  {
   "cell_type": "code",
   "execution_count": 15,
   "id": "1851b5c2-64e7-4b48-956c-b2ebd65f8ac7",
   "metadata": {},
   "outputs": [],
   "source": [
    "# Calculate the mean value of the restecg column\n",
    "mean_value = heart_disease_duplicates_dropped['restecg'].mean()"
   ]
  },
  {
   "cell_type": "code",
   "execution_count": 16,
   "id": "e21abc41-bae1-4ab5-8256-5ed94260a33a",
   "metadata": {},
   "outputs": [
    {
     "name": "stdout",
     "output_type": "stream",
     "text": [
      "False\n"
     ]
    },
    {
     "data": {
      "text/html": [
       "<div>\n",
       "<style scoped>\n",
       "    .dataframe tbody tr th:only-of-type {\n",
       "        vertical-align: middle;\n",
       "    }\n",
       "\n",
       "    .dataframe tbody tr th {\n",
       "        vertical-align: top;\n",
       "    }\n",
       "\n",
       "    .dataframe thead th {\n",
       "        text-align: right;\n",
       "    }\n",
       "</style>\n",
       "<table border=\"1\" class=\"dataframe\">\n",
       "  <thead>\n",
       "    <tr style=\"text-align: right;\">\n",
       "      <th></th>\n",
       "      <th>age</th>\n",
       "      <th>sex</th>\n",
       "      <th>cp</th>\n",
       "      <th>trestbps</th>\n",
       "      <th>chol</th>\n",
       "      <th>fbs</th>\n",
       "      <th>restecg</th>\n",
       "      <th>thalach</th>\n",
       "      <th>exang</th>\n",
       "      <th>oldpeak</th>\n",
       "      <th>slope</th>\n",
       "      <th>ca</th>\n",
       "      <th>thal</th>\n",
       "      <th>target</th>\n",
       "    </tr>\n",
       "  </thead>\n",
       "  <tbody>\n",
       "    <tr>\n",
       "      <th>0</th>\n",
       "      <td>52</td>\n",
       "      <td>1</td>\n",
       "      <td>0.0</td>\n",
       "      <td>125</td>\n",
       "      <td>212.0</td>\n",
       "      <td>0</td>\n",
       "      <td>1.0</td>\n",
       "      <td>168</td>\n",
       "      <td>0</td>\n",
       "      <td>NaN</td>\n",
       "      <td>2</td>\n",
       "      <td>2</td>\n",
       "      <td>3</td>\n",
       "      <td>0</td>\n",
       "    </tr>\n",
       "    <tr>\n",
       "      <th>1</th>\n",
       "      <td>53</td>\n",
       "      <td>1</td>\n",
       "      <td>0.0</td>\n",
       "      <td>140</td>\n",
       "      <td>203.0</td>\n",
       "      <td>1</td>\n",
       "      <td>0.0</td>\n",
       "      <td>155</td>\n",
       "      <td>1</td>\n",
       "      <td>NaN</td>\n",
       "      <td>0</td>\n",
       "      <td>0</td>\n",
       "      <td>3</td>\n",
       "      <td>0</td>\n",
       "    </tr>\n",
       "  </tbody>\n",
       "</table>\n",
       "</div>"
      ],
      "text/plain": [
       "   age  sex   cp  trestbps   chol  fbs  restecg  thalach  exang  oldpeak  \\\n",
       "0   52    1  0.0       125  212.0    0      1.0      168      0      NaN   \n",
       "1   53    1  0.0       140  203.0    1      0.0      155      1      NaN   \n",
       "\n",
       "   slope  ca  thal  target  \n",
       "0      2   2     3       0  \n",
       "1      0   0     3       0  "
      ]
     },
     "execution_count": 16,
     "metadata": {},
     "output_type": "execute_result"
    }
   ],
   "source": [
    "# Safely fill missing values in the 'restecg' column\n",
    "heart_disease_df.loc[:, 'restecg'] = heart_disease_df['restecg'].fillna(mean_value)\n",
    "\n",
    "# Verify if there are any NaN values left in 'restecg'\n",
    "print(heart_disease_df['restecg'].isna().any())\n",
    "\n",
    "# Display the first two rows of the DataFrame\n",
    "heart_disease_df.head(2)"
   ]
  },
  {
   "cell_type": "markdown",
   "id": "28487105-6b0e-421e-a9c8-3c1f6ec714d3",
   "metadata": {},
   "source": [
    "Understanding the distribution of classes in our features - for example, patient sex - is a key part of EDA.\n",
    "\n",
    "\n",
    "Class imbalance, where one class has significantly more samples than another, can potentially bias your model's training process, leading it to favor the majority class"
   ]
  },
  {
   "cell_type": "code",
   "execution_count": 17,
   "id": "e0fe6c73-85ff-4909-9e93-cb4aaf0f761e",
   "metadata": {},
   "outputs": [
    {
     "name": "stdout",
     "output_type": "stream",
     "text": [
      "sex\n",
      "1    743\n",
      "0    333\n",
      "Name: count, dtype: int64\n"
     ]
    }
   ],
   "source": [
    "print(heart_disease_df['sex'].value_counts())"
   ]
  },
  {
   "cell_type": "code",
   "execution_count": 27,
   "id": "5677b109-71c3-48ac-b737-359f05f0cc5c",
   "metadata": {},
   "outputs": [
    {
     "data": {
      "image/png": "[encoded data removed]",
      "text/plain": [
       "<Figure size 1000x500 with 1 Axes>"
      ]
     },
     "metadata": {},
     "output_type": "display_data"
    }
   ],
   "source": [
    "from sklearn.preprocessing import MinMaxScaler\n",
    "# Normalize 'age' on the training set.\n",
    "normalizer = MinMaxScaler()\n",
    "X_train['age'] = normalizer.fit_transform(X_train['age'].values.reshape(-1,1))\n",
    "\n",
    "# Use the same normalizer to transform the 'age' column of the test set to avoid data leakage\n",
    "X_test['age'] = normalizer.transform(X_test['age'].values.reshape(-1,1))\n",
    "\n",
    "plt.figure(figsize=(10,5))\n",
    "plt.hist(X_test['age'], bins=30, alpha=0.5, label='Normalized')\n",
    "plt.legend(prop={'size': 16})\n",
    "plt.title('Histogram with Normalized Age')\n",
    "plt.xlabel('Normalized Age')\n",
    "plt.ylabel('Count')\n",
    "plt.show()"
   ]
  },
  {
   "cell_type": "code",
   "execution_count": 29,
   "id": "8adc1d07-1d93-4109-95ef-2e67e58bbd8f",
   "metadata": {},
   "outputs": [
    {
     "data": {
      "image/png": "[encoded data removed]",
      "text/plain": [
       "<Figure size 1000x500 with 1 Axes>"
      ]
     },
     "metadata": {},
     "output_type": "display_data"
    }
   ],
   "source": [
    "from sklearn.preprocessing import StandardScaler\n",
    "# Standardize 'age' on the training set and use the same standardizer to transform the 'age' column of the test set to avoid data leakage\n",
    "standardizer = StandardScaler()\n",
    "X_train['age'] = standardizer.fit_transform(X_train['age'].values.reshape(-1,1))\n",
    "X_test['age'] = standardizer.transform(X_test['age'].values.reshape(-1,1))\n",
    "\n",
    "plt.figure(figsize=(10,5))\n",
    "plt.hist(X_train['age'], bins=30, alpha=0.5, label='Standardized')\n",
    "plt.legend(prop={'size': 16})\n",
    "plt.title('Histogram with Standardized Age')\n",
    "plt.xlabel('Standardized Age')\n",
    "plt.ylabel('Count')\n",
    "plt.show()"
   ]
  },
  {
   "cell_type": "code",
   "execution_count": 34,
   "id": "431d8b6e-9402-4bd4-8194-21efba8f0cec",
   "metadata": {},
   "outputs": [],
   "source": [
    "import pandas as pd\n",
    "from sklearn.model_selection import train_test_split\n",
    "from sklearn.preprocessing import StandardScaler\n",
    "from sklearn.impute import SimpleImputer\n",
    "\n",
    "# Load the dataset\n",
    "heart_disease_df = pd.read_csv('heart_disease_cleaned_2.csv')\n",
    "\n",
    "# Split the data into features and target\n",
    "X = heart_disease_df.drop(columns=['target'])\n",
    "y = heart_disease_df['target']\n",
    "\n",
    "# Split the data into training and testing sets\n",
    "X_train, X_test, y_train, y_test = train_test_split(X, y, test_size=0.2, random_state=42)\n",
    "\n",
    "# Handle missing values\n",
    "imputer = SimpleImputer(strategy='mean')\n",
    "X_train_imputed = imputer.fit_transform(X_train)\n",
    "X_test_imputed = imputer.transform(X_test)\n",
    "\n",
    "# Scale the features\n",
    "scaler = StandardScaler()\n",
    "X_train_scaled = scaler.fit_transform(X_train_imputed)\n",
    "X_test_scaled = scaler.transform(X_test_imputed)"
   ]
  },
  {
   "cell_type": "markdown",
   "id": "6cb163e0-df75-4a2e-8e7b-598a6c6cc36b",
   "metadata": {},
   "source": [
    "<a id=\"3\"></a>\n",
    "<p style=\"padding:20px 40px; background-color:#4A90E2; margin:0; color:#ffffff; font-family:'Segoe UI', Tahoma, Geneva, Verdana, sans-serif; font-size:110%; text-align:center; border-radius: 20px 60px; overflow:hidden; font-weight:bold; box-shadow: 0px 4px 6px rgba(0, 0, 0, 0.1);\">\n",
    "Train a Machine Learning Model\n",
    "</p>\n"
   ]
  },
  {
   "cell_type": "code",
   "execution_count": 36,
   "id": "af57d49f-238e-4316-bf00-dc7d3ea52ee3",
   "metadata": {},
   "outputs": [
    {
     "name": "stdout",
     "output_type": "stream",
     "text": [
      "Accuracy: 0.88\n",
      "Classification Report:\n",
      "              precision    recall  f1-score   support\n",
      "\n",
      "           0       0.95      0.82      0.88        50\n",
      "           1       0.80      0.95      0.87        38\n",
      "\n",
      "    accuracy                           0.88        88\n",
      "   macro avg       0.88      0.88      0.87        88\n",
      "weighted avg       0.89      0.88      0.88        88\n",
      "\n"
     ]
    }
   ],
   "source": [
    "from sklearn.ensemble import RandomForestClassifier\n",
    "from sklearn.metrics import accuracy_score, classification_report\n",
    "\n",
    "# Train a RandomForestClassifier\n",
    "model = RandomForestClassifier(n_estimators=100, random_state=42)\n",
    "model.fit(X_train_scaled, y_train)\n",
    "\n",
    "# Make predictions\n",
    "y_pred = model.predict(X_test_scaled)\n",
    "\n",
    "# Evaluate the model\n",
    "accuracy = accuracy_score(y_test, y_pred)\n",
    "print(f\"Accuracy: {accuracy:.2f}\")\n",
    "print(\"Classification Report:\")\n",
    "print(classification_report(y_test, y_pred))\n"
   ]
  },
  {
   "cell_type": "markdown",
   "id": "c5e1039a-0b21-4b61-99e5-5d6abd6fe6ed",
   "metadata": {},
   "source": [
    "We'll use the joblib library to save the trained model."
   ]
  },
  {
   "cell_type": "raw",
   "id": "3da438e6-f382-4e94-bb0e-1047bed7771e",
   "metadata": {},
   "source": [
    "import joblib\n",
    "\n",
    "# Save the trained model\n",
    "joblib.dump(model, 'heart_disease_model.pkl')\n",
    "joblib.dump(scaler, 'scaler.pkl')\n",
    "joblib.dump(imputer, 'imputer.pkl')\n"
   ]
  },
  {
   "cell_type": "markdown",
   "id": "d1d1f94e-a708-443e-9ba5-501ee303b7e6",
   "metadata": {},
   "source": [
    "<a id=\"4\"></a>\n",
    "<p style=\"padding:20px 40px; background-color:#4A90E2; margin:0; color:#ffffff; font-family:'Segoe UI', Tahoma, Geneva, Verdana, sans-serif; font-size:110%; text-align:center; border-radius: 20px 60px; overflow:hidden; font-weight:bold; box-shadow: 0px 4px 6px rgba(0, 0, 0, 0.1);\">\n",
    "Deploy the Model Using Flask\n",
    "</p>\n"
   ]
  },
  {
   "cell_type": "raw",
   "id": "7e236e6e-1e28-47d7-b832-1bcb6b911b68",
   "metadata": {},
   "source": [
    "from flask import Flask, request, jsonify\n",
    "import joblib\n",
    "import numpy as np\n",
    "\n",
    "# Load the model, scaler, and imputer\n",
    "model = joblib.load('heart_disease_model.pkl')\n",
    "scaler = joblib.load('scaler.pkl')\n",
    "imputer = joblib.load('imputer.pkl')\n",
    "\n",
    "app = Flask(__name__)\n",
    "\n",
    "@app.route('/')\n",
    "def home():\n",
    "    return \"Heart Disease Prediction API\"\n",
    "\n",
    "@app.route('/predict', methods=['POST'])\n",
    "def predict():\n",
    "    data = request.get_json(force=True)\n",
    "    features = np.array([data['features']])\n",
    "    \n",
    "    # Preprocess the features\n",
    "    features_imputed = imputer.transform(features)\n",
    "    features_scaled = scaler.transform(features_imputed)\n",
    "    \n",
    "    # Make a prediction\n",
    "    prediction = model.predict(features_scaled)\n",
    "    \n",
    "    return jsonify({'prediction': int(prediction[0])})\n",
    "\n",
    "if __name__ == '__main__':\n",
    "    app.run(debug=True)\n"
   ]
  },
  {
   "attachments": {
    "b647a3b8-935a-47e8-af29-d64092e3463b.png": {
     "image/png": "[encoded data removed]"
    }
   },
   "cell_type": "markdown",
   "id": "d6730192-0d2d-4a5e-835e-6bc5027c7f31",
   "metadata": {},
   "source": [
    "**Requirements**\n",
    "- Flask\n",
    "- pandas\n",
    "- scikit-learn\n",
    "- joblib\n",
    "\n",
    "\n",
    "The app looks like:\n",
    "\n",
    "![image.png](attachment:b647a3b8-935a-47e8-af29-d64092e3463b.png)"
   ]
  },
  {
   "cell_type": "code",
   "execution_count": null,
   "id": "753307c7-83ae-4c21-9f91-44c5c2c96c6a",
   "metadata": {},
   "outputs": [],
   "source": []
  }
 ],
 "metadata": {
  "kernelspec": {
   "display_name": "Python 3 (ipykernel)",
   "language": "python",
   "name": "python3"
  },
  "language_info": {
   "codemirror_mode": {
    "name": "ipython",
    "version": 3
   },
   "file_extension": ".py",
   "mimetype": "text/x-python",
   "name": "python",
   "nbconvert_exporter": "python",
   "pygments_lexer": "ipython3",
   "version": "3.9.19"
  }
 },
 "nbformat": 4,
 "nbformat_minor": 5
}
